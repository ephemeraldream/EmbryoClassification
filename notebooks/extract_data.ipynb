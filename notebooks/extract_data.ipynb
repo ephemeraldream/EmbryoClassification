{
 "cells": [
  {
   "cell_type": "code",
   "id": "initial_id",
   "metadata": {
    "collapsed": true,
    "ExecuteTime": {
     "end_time": "2024-11-26T12:41:55.797114Z",
     "start_time": "2024-11-26T12:41:51.608556Z"
    }
   },
   "source": [
    "import sqlite3\n",
    "import pandas as pd\n",
    "import numpy as np \n",
    "import torchvision\n",
    "import torch\n",
    "from PIL import Image\n",
    "import asyncio\n",
    "import io\n",
    "import os\n",
    "import json\n",
    "from torchvision import datasets, transforms"
   ],
   "outputs": [],
   "execution_count": 1
  },
  {
   "metadata": {
    "ExecuteTime": {
     "end_time": "2024-11-26T12:41:55.813467Z",
     "start_time": "2024-11-26T12:41:55.807424Z"
    }
   },
   "cell_type": "code",
   "source": [
    "import sqlite3\n",
    "import os\n",
    "from PIL import Image\n",
    "import io\n",
    "\n",
    "from src.constants import PROJECT_ROOT  "
   ],
   "id": "c1e50ed706ca8507",
   "outputs": [],
   "execution_count": 2
  },
  {
   "metadata": {
    "ExecuteTime": {
     "end_time": "2024-11-26T12:41:55.829992Z",
     "start_time": "2024-11-26T12:41:55.823465Z"
    }
   },
   "cell_type": "code",
   "source": [
    "OUTPUT_DIR = PROJECT_ROOT / 'data/datasets/dataset_ver3_'        # Директория для сохранения изображений и\n",
    "DATABASE_PATH = 'C:\\\\work\\\\WestTrade\\\\SecondStep\\\\data\\\\raw_data\\\\so_deep.db'\n",
    "DATABASE_PATH\n",
    "OUTPUT_DIR"
   ],
   "id": "8269696ff613803",
   "outputs": [
    {
     "data": {
      "text/plain": [
       "WindowsPath('C:/work/WestTrade/SecondStep/data/datasets/dataset_ver1_start_and_end')"
      ]
     },
     "execution_count": 3,
     "metadata": {},
     "output_type": "execute_result"
    }
   ],
   "execution_count": 3
  },
  {
   "metadata": {
    "ExecuteTime": {
     "end_time": "2024-11-26T12:41:56.042466Z",
     "start_time": "2024-11-26T12:41:56.038943Z"
    }
   },
   "cell_type": "code",
   "source": [
    "def mark_id_to_class(wtm_mark_id):\n",
    "    if 11 <= wtm_mark_id <= 14:\n",
    "        return 1\n",
    "    elif 21 <= wtm_mark_id <= 26:\n",
    "        return 2\n",
    "    elif 41 <= wtm_mark_id <= 46:\n",
    "        return 3\n",
    "    elif wtm_mark_id >= 50:\n",
    "        return 4\n",
    "    else:\n",
    "        return None"
   ],
   "id": "a93d62eab4a9dfc9",
   "outputs": [],
   "execution_count": 4
  },
  {
   "metadata": {
    "ExecuteTime": {
     "end_time": "2024-11-26T12:41:56.063568Z",
     "start_time": "2024-11-26T12:41:56.052051Z"
    }
   },
   "cell_type": "code",
   "source": [
    "conn = sqlite3.connect(db_p)\n",
    "cursor = conn.cursor()\n",
    "\n",
    "if not os.path.exists(OUTPUT_DIR):\n",
    "    os.makedirs(OUTPUT_DIR)\n",
    "\n",
    "marker_periods_query = \"\"\"\n",
    "WITH marker_groups AS (\n",
    "    SELECT\n",
    "        wtm_ed_uuid,\n",
    "        wtm_mark_id,\n",
    "        wtm_wtl_id,\n",
    "        wtm_wtl_id - ROW_NUMBER() OVER (PARTITION BY wtm_ed_uuid, wtm_mark_id ORDER BY wtm_wtl_id) AS grp\n",
    "    FROM\n",
    "        well_timeline_marker\n",
    ")\n",
    "SELECT\n",
    "    wtm_ed_uuid,\n",
    "    wtm_mark_id,\n",
    "    MIN(wtm_wtl_id) AS start_frame,\n",
    "    MAX(wtm_wtl_id) AS end_frame\n",
    "FROM\n",
    "    marker_groups\n",
    "GROUP BY\n",
    "    wtm_ed_uuid,\n",
    "    wtm_mark_id,\n",
    "    grp\n",
    "ORDER BY\n",
    "    wtm_ed_uuid,\n",
    "    start_frame;\n",
    "\"\"\"\n",
    "cursor.execute(marker_periods_query)\n",
    "marker_periods = cursor.fetchall()"
   ],
   "id": "a274a6995fe8449f",
   "outputs": [],
   "execution_count": 5
  },
  {
   "metadata": {
    "ExecuteTime": {
     "end_time": "2024-11-26T12:42:47.538130Z",
     "start_time": "2024-11-26T12:41:56.099889Z"
    }
   },
   "cell_type": "code",
   "source": [
    "for period in marker_periods:\n",
    "    wtm_ed_uuid, wtm_mark_id, start_frame, end_frame = period\n",
    "    class_label = mark_id_to_class(wtm_mark_id)\n",
    "    \n",
    "    if class_label is None:\n",
    "        continue  # Пропускаем метки вне интересующих классов\n",
    "    \n",
    "    # Извлекаем кадры из таблицы well_timeline_frames\n",
    "    frames_query = \"\"\"\n",
    "    SELECT wtf_wtl_id, wtf_frame\n",
    "    FROM well_timeline_frames\n",
    "    WHERE wtf_ed_uuid = ?\n",
    "      AND wtf_wtl_id BETWEEN ? AND ?\n",
    "    ORDER BY wtf_wtl_id;\n",
    "    \"\"\"\n",
    "    cursor.execute(frames_query, (wtm_ed_uuid, start_frame, end_frame))\n",
    "    frames = cursor.fetchall()\n",
    "    \n",
    "    for wtf_wtl_id, wtf_frame in frames:\n",
    "        # Сохраняем изображение\n",
    "        image = Image.open(io.BytesIO(wtf_frame))\n",
    "        \n",
    "        # Создаём путь для сохранения изображения\n",
    "        embryo_dir = os.path.join(OUTPUT_DIR, str(class_label), wtm_ed_uuid)\n",
    "        if not os.path.exists(embryo_dir):\n",
    "            os.makedirs(embryo_dir)\n",
    "        \n",
    "        image_path = os.path.join(embryo_dir, f'{wtf_wtl_id}.png')\n",
    "        image.save(image_path)\n"
   ],
   "id": "9ec62cee469aace3",
   "outputs": [],
   "execution_count": 6
  },
  {
   "metadata": {
    "ExecuteTime": {
     "end_time": "2024-11-26T12:42:47.551969Z",
     "start_time": "2024-11-26T12:42:47.548597Z"
    }
   },
   "cell_type": "code",
   "source": [
    "transform = transforms.Compose([\n",
    "    transforms.Resize((224, 224)),  # Измените размер согласно требованиям вашей сети\n",
    "    transforms.ToTensor(),\n",
    "])\n"
   ],
   "id": "98e7d569721fa14e",
   "outputs": [],
   "execution_count": 7
  },
  {
   "metadata": {
    "ExecuteTime": {
     "end_time": "2024-11-26T12:45:42.280763Z",
     "start_time": "2024-11-26T12:45:42.235686Z"
    }
   },
   "cell_type": "code",
   "source": [
    "dataset = datasets.ImageFolder(root=PROJECT_ROOT / 'data/datasets/dataset_ver1_start_and_end', transform=transform)\n",
    "dataset.__len__()"
   ],
   "id": "824e05f06c0a9223",
   "outputs": [
    {
     "data": {
      "text/plain": [
       "1168"
      ]
     },
     "execution_count": 9,
     "metadata": {},
     "output_type": "execute_result"
    }
   ],
   "execution_count": 9
  }
 ],
 "metadata": {
  "kernelspec": {
   "display_name": "Python 3",
   "language": "python",
   "name": "python3"
  },
  "language_info": {
   "codemirror_mode": {
    "name": "ipython",
    "version": 2
   },
   "file_extension": ".py",
   "mimetype": "text/x-python",
   "name": "python",
   "nbconvert_exporter": "python",
   "pygments_lexer": "ipython2",
   "version": "2.7.6"
  }
 },
 "nbformat": 4,
 "nbformat_minor": 5
}
