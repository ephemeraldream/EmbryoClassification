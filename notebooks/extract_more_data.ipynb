{
 "cells": [
  {
   "metadata": {
    "ExecuteTime": {
     "end_time": "2024-11-26T12:38:17.805673Z",
     "start_time": "2024-11-26T12:38:17.803475Z"
    }
   },
   "cell_type": "code",
   "source": "",
   "id": "d0e18eda03b95cae",
   "outputs": [],
   "execution_count": null
  },
  {
   "cell_type": "code",
   "id": "initial_id",
   "metadata": {
    "collapsed": true,
    "ExecuteTime": {
     "end_time": "2024-11-26T12:40:01.395402Z",
     "start_time": "2024-11-26T12:39:58.132746Z"
    }
   },
   "source": [
    "import sqlite3\n",
    "import pandas as pd\n",
    "import numpy as np \n",
    "import torchvision\n",
    "import torch\n",
    "from PIL import Image\n",
    "import asyncio\n",
    "import io\n",
    "import os\n",
    "import json\n",
    "from torchvision import datasets, transforms\n",
    "\n",
    "from src.constants import PROJECT_ROOT\n",
    "\n",
    "OUTPUT_DIR = PROJECT_ROOT / 'data/datasets/dataset_ver2_all'        # Директория для сохранения изображений и\n",
    "db_p = 'C:\\\\work\\\\WestTrade\\\\SecondStep\\\\data\\\\raw_data\\\\so_deep.db'\n",
    "OUTPUT_DIR"
   ],
   "outputs": [
    {
     "data": {
      "text/plain": [
       "WindowsPath('C:/work/WestTrade/SecondStep/data/datasets/dataset_ver2_all')"
      ]
     },
     "execution_count": 9,
     "metadata": {},
     "output_type": "execute_result"
    }
   ],
   "execution_count": 9
  },
  {
   "metadata": {
    "ExecuteTime": {
     "end_time": "2024-11-26T12:38:34.560700Z",
     "start_time": "2024-11-26T12:38:34.556679Z"
    }
   },
   "cell_type": "code",
   "source": [
    "def mark_id_to_class(wtm_mark_id):\n",
    "    if 11 <= wtm_mark_id <= 14:\n",
    "        return 1\n",
    "    elif 21 <= wtm_mark_id <= 26:\n",
    "        return 2\n",
    "    elif 41 <= wtm_mark_id <= 46:\n",
    "        return 3\n",
    "    elif wtm_mark_id >= 50:\n",
    "        return 4\n",
    "    else:\n",
    "        return None  # Игнорируем метки вне интересующих классов\n"
   ],
   "id": "98a3e2d851afea57",
   "outputs": [],
   "execution_count": 6
  },
  {
   "metadata": {
    "ExecuteTime": {
     "end_time": "2024-11-26T12:38:41.945226Z",
     "start_time": "2024-11-26T12:38:41.932747Z"
    }
   },
   "cell_type": "code",
   "source": [
    "conn = sqlite3.connect(db_p)\n",
    "cursor = conn.cursor()\n",
    "\n",
    "if not os.path.exists(OUTPUT_DIR):\n",
    "    os.makedirs(OUTPUT_DIR)\n",
    "\n",
    "marker_periods_query = \"\"\"\n",
    "WITH marker_groups AS (\n",
    "    SELECT\n",
    "        wtm_ed_uuid,\n",
    "        wtm_mark_id,\n",
    "        wtm_focus,\n",
    "        wtm_wtl_id,\n",
    "        wtm_wtl_id - ROW_NUMBER() OVER (\n",
    "            PARTITION BY wtm_ed_uuid, wtm_mark_id, wtm_focus\n",
    "            ORDER BY wtm_wtl_id\n",
    "        ) AS grp\n",
    "    FROM\n",
    "        well_timeline_marker\n",
    ")\n",
    "SELECT\n",
    "    wtm_ed_uuid,\n",
    "    wtm_mark_id,\n",
    "    wtm_focus,\n",
    "    MIN(wtm_wtl_id) AS start_frame,\n",
    "    MAX(wtm_wtl_id) AS end_frame\n",
    "FROM\n",
    "    marker_groups\n",
    "GROUP BY\n",
    "    wtm_ed_uuid,\n",
    "    wtm_mark_id,\n",
    "    wtm_focus,\n",
    "    grp\n",
    "ORDER BY\n",
    "    wtm_ed_uuid,\n",
    "    start_frame;\n",
    "\"\"\"\n",
    "cursor.execute(marker_periods_query)\n",
    "marker_periods = cursor.fetchall()"
   ],
   "id": "44fbf252a4b3f0eb",
   "outputs": [],
   "execution_count": 7
  },
  {
   "metadata": {
    "ExecuteTime": {
     "end_time": "2024-11-26T12:38:59.476546Z",
     "start_time": "2024-11-26T12:38:45.930422Z"
    }
   },
   "cell_type": "code",
   "source": [
    "for period in marker_periods:\n",
    "    wtm_ed_uuid, wtm_mark_id, wtm_focus, start_frame, end_frame = period\n",
    "    class_label = mark_id_to_class(wtm_mark_id)\n",
    "\n",
    "    if class_label is None:\n",
    "        continue  # Пропускаем метки вне интересующих классов\n",
    "\n",
    "    frames_query = \"\"\"\n",
    "    SELECT wtf_wtl_id, wtf_frame\n",
    "    FROM well_timeline_frames\n",
    "    WHERE wtf_ed_uuid = ?\n",
    "      AND wtf_wtl_id BETWEEN ? AND ?\n",
    "      AND wtf_rel_focus = ?\n",
    "    ORDER BY wtf_wtl_id;\n",
    "    \"\"\"\n",
    "    cursor.execute(frames_query, (wtm_ed_uuid, start_frame, end_frame, wtm_focus))\n",
    "    frames = cursor.fetchall()\n",
    "\n",
    "    for wtf_wtl_id, wtf_frame in frames:\n",
    "        # Сохраняем изображение\n",
    "        image = Image.open(io.BytesIO(wtf_frame))\n",
    "\n",
    "        embryo_dir = os.path.join(OUTPUT_DIR, str(class_label), wtm_ed_uuid)\n",
    "        if not os.path.exists(embryo_dir):\n",
    "            os.makedirs(embryo_dir)\n",
    "\n",
    "        image_path = os.path.join(embryo_dir, f'{wtf_wtl_id}_{wtm_focus}.png')\n",
    "        image.save(image_path)\n"
   ],
   "id": "99df803b5afb8cf3",
   "outputs": [],
   "execution_count": 8
  }
 ],
 "metadata": {
  "kernelspec": {
   "display_name": "Python 3",
   "language": "python",
   "name": "python3"
  },
  "language_info": {
   "codemirror_mode": {
    "name": "ipython",
    "version": 2
   },
   "file_extension": ".py",
   "mimetype": "text/x-python",
   "name": "python",
   "nbconvert_exporter": "python",
   "pygments_lexer": "ipython2",
   "version": "2.7.6"
  }
 },
 "nbformat": 4,
 "nbformat_minor": 5
}
